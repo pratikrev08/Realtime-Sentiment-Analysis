{
 "cells": [
  {
   "cell_type": "markdown",
   "metadata": {},
   "source": [
    "### Label creation for Sentiment Analysis of Amazon Customer Reviews using Unsupervised Learning\n",
    "\n",
    "Label identification using **K-Means Clustering** without **headline_polarity**"
   ]
  },
  {
   "cell_type": "code",
   "execution_count": 52,
   "metadata": {},
   "outputs": [],
   "source": [
    "from sklearn.cluster import KMeans\n",
    "import matplotlib.pyplot as plt\n",
    "from mpl_toolkits.mplot3d import Axes3D\n",
    "import pandas as pd\n",
    "import numpy as np"
   ]
  },
  {
   "cell_type": "code",
   "execution_count": 53,
   "metadata": {},
   "outputs": [
    {
     "data": {
      "text/plain": [
       "Index(['star_rating', 'review_headline', 'review_body', 'headline_polarity',\n",
       "       'body_polarity'],\n",
       "      dtype='object')"
      ]
     },
     "execution_count": 53,
     "metadata": {},
     "output_type": "execute_result"
    }
   ],
   "source": [
    "# Load data\n",
    "data = pd.read_csv('amazon_customer_reviews.csv', delimiter=',', index_col=None, error_bad_lines=False)\n",
    "\n",
    "data.columns"
   ]
  },
  {
   "cell_type": "code",
   "execution_count": 54,
   "metadata": {},
   "outputs": [
    {
     "data": {
      "text/plain": [
       "(array([], dtype=int64), array([], dtype=int64))"
      ]
     },
     "execution_count": 54,
     "metadata": {},
     "output_type": "execute_result"
    }
   ],
   "source": [
    "X = pd.DataFrame(data, columns = ['star_rating','body_polarity'])\n",
    "np.where(pd.isnull(X))"
   ]
  },
  {
   "cell_type": "code",
   "execution_count": 55,
   "metadata": {},
   "outputs": [
    {
     "data": {
      "text/plain": [
       "(1000000, 2)"
      ]
     },
     "execution_count": 55,
     "metadata": {},
     "output_type": "execute_result"
    }
   ],
   "source": [
    "X = X.dropna(how='all')\n",
    "X.shape"
   ]
  },
  {
   "cell_type": "code",
   "execution_count": 56,
   "metadata": {},
   "outputs": [
    {
     "name": "stdout",
     "output_type": "stream",
     "text": [
      "[[4.80326444 0.36763101]\n",
      " [1.95699066 0.06696759]]\n",
      "[0 0 0 ... 0 0 0]\n"
     ]
    }
   ],
   "source": [
    "# for k = 2 (positive/negative)\n",
    "kmeans = KMeans(n_clusters=2, random_state=8).fit(X)\n",
    "\n",
    "print(kmeans.cluster_centers_)\n",
    "print(kmeans.labels_)"
   ]
  },
  {
   "cell_type": "code",
   "execution_count": 57,
   "metadata": {},
   "outputs": [
    {
     "data": {
      "image/png": "[encoded data removed]",
      "text/plain": [
       "<Figure size 432x288 with 1 Axes>"
      ]
     },
     "metadata": {
      "needs_background": "light"
     },
     "output_type": "display_data"
    }
   ],
   "source": [
    "# Plotting the cluster centers and the data points\n",
    "plt.scatter(X['star_rating'], X['body_polarity'])  \n",
    "plt.scatter(kmeans.cluster_centers_[:, 0], kmeans.cluster_centers_[:, 1], c='red', s=40, marker='x')\n",
    "plt.xlabel('star_rating', fontsize=12)\n",
    "plt.ylabel('body_polarity', fontsize=12)\n",
    "plt.title('Data points and cluster centroids', fontsize=16)\n",
    "plt.show()"
   ]
  },
  {
   "cell_type": "code",
   "execution_count": 58,
   "metadata": {},
   "outputs": [],
   "source": [
    "X_k2 = X\n",
    "X_k2['label'] = kmeans.labels_"
   ]
  },
  {
   "cell_type": "code",
   "execution_count": 59,
   "metadata": {},
   "outputs": [
    {
     "data": {
      "text/plain": [
       "0    787209\n",
       "1    212791\n",
       "Name: label, dtype: int64"
      ]
     },
     "execution_count": 59,
     "metadata": {},
     "output_type": "execute_result"
    }
   ],
   "source": [
    "X_k2['label'].value_counts() "
   ]
  },
  {
   "cell_type": "code",
   "execution_count": 60,
   "metadata": {},
   "outputs": [
    {
     "name": "stdout",
     "output_type": "stream",
     "text": [
      "[[5.00000000e+00 3.90572623e-01 1.22915567e-12]\n",
      " [1.36106455e+00 1.54108430e-02 1.00000000e+00]\n",
      " [3.66685038e+00 2.35063558e-01 3.33149619e-01]]\n",
      "[0 0 0 ... 2 0 0]\n"
     ]
    }
   ],
   "source": [
    "# for k = 3 (positive/negative/neutral)\n",
    "kmeans = KMeans(n_clusters=3, random_state=8).fit(X)\n",
    "\n",
    "print(kmeans.cluster_centers_)\n",
    "print(kmeans.labels_)"
   ]
  },
  {
   "cell_type": "code",
   "execution_count": 61,
   "metadata": {},
   "outputs": [
    {
     "data": {
      "image/png": "[encoded data removed]",
      "text/plain": [
       "<Figure size 432x288 with 1 Axes>"
      ]
     },
     "metadata": {
      "needs_background": "light"
     },
     "output_type": "display_data"
    }
   ],
   "source": [
    "# Plotting the cluster centers and the data points\n",
    "plt.scatter(X['star_rating'], X['body_polarity'])  \n",
    "plt.scatter(kmeans.cluster_centers_[:, 0], kmeans.cluster_centers_[:, 1], s=40,\n",
    "            c='red', marker='x')\n",
    "plt.xlabel('star_rating', fontsize=12)\n",
    "plt.ylabel('body_polarity', fontsize=12)\n",
    "plt.title('Data points and cluster centroids', fontsize=16)\n",
    "plt.show()"
   ]
  },
  {
   "cell_type": "code",
   "execution_count": 62,
   "metadata": {},
   "outputs": [],
   "source": [
    "X_k3 = X\n",
    "X_k3['label'] = kmeans.labels_"
   ]
  },
  {
   "cell_type": "code",
   "execution_count": 63,
   "metadata": {},
   "outputs": [
    {
     "data": {
      "text/plain": [
       "0    632337\n",
       "2    232244\n",
       "1    135419\n",
       "Name: label, dtype: int64"
      ]
     },
     "execution_count": 63,
     "metadata": {},
     "output_type": "execute_result"
    }
   ],
   "source": [
    "X_k3['label'].value_counts() "
   ]
  },
  {
   "cell_type": "code",
   "execution_count": 66,
   "metadata": {},
   "outputs": [],
   "source": [
    "data['label'] = kmeans.labels_"
   ]
  },
  {
   "cell_type": "code",
   "execution_count": 73,
   "metadata": {},
   "outputs": [
    {
     "data": {
      "text/html": [
       "<div>\n",
       "<style scoped>\n",
       "    .dataframe tbody tr th:only-of-type {\n",
       "        vertical-align: middle;\n",
       "    }\n",
       "\n",
       "    .dataframe tbody tr th {\n",
       "        vertical-align: top;\n",
       "    }\n",
       "\n",
       "    .dataframe thead th {\n",
       "        text-align: right;\n",
       "    }\n",
       "</style>\n",
       "<table border=\"1\" class=\"dataframe\">\n",
       "  <thead>\n",
       "    <tr style=\"text-align: right;\">\n",
       "      <th></th>\n",
       "      <th>star_rating</th>\n",
       "      <th>review_headline</th>\n",
       "      <th>review_body</th>\n",
       "      <th>headline_polarity</th>\n",
       "      <th>body_polarity</th>\n",
       "      <th>label</th>\n",
       "    </tr>\n",
       "  </thead>\n",
       "  <tbody>\n",
       "    <tr>\n",
       "      <td>0</td>\n",
       "      <td>5</td>\n",
       "      <td>five stars</td>\n",
       "      <td>happy purchase</td>\n",
       "      <td>0.000000</td>\n",
       "      <td>0.800000</td>\n",
       "      <td>0</td>\n",
       "    </tr>\n",
       "    <tr>\n",
       "      <td>1</td>\n",
       "      <td>5</td>\n",
       "      <td>perfect fit perfect feeling made usa</td>\n",
       "      <td>cardigan perfect lightweight fits true size po...</td>\n",
       "      <td>0.800000</td>\n",
       "      <td>0.825000</td>\n",
       "      <td>0</td>\n",
       "    </tr>\n",
       "    <tr>\n",
       "      <td>2</td>\n",
       "      <td>5</td>\n",
       "      <td>fantastic successor baking flavor</td>\n",
       "      <td>wow gorgeous baking cookbook layout recipes co...</td>\n",
       "      <td>0.400000</td>\n",
       "      <td>0.337083</td>\n",
       "      <td>0</td>\n",
       "    </tr>\n",
       "    <tr>\n",
       "      <td>4</td>\n",
       "      <td>5</td>\n",
       "      <td>five stars</td>\n",
       "      <td>improved vision</td>\n",
       "      <td>0.000000</td>\n",
       "      <td>0.000000</td>\n",
       "      <td>0</td>\n",
       "    </tr>\n",
       "    <tr>\n",
       "      <td>5</td>\n",
       "      <td>5</td>\n",
       "      <td>keep buying</td>\n",
       "      <td>fourth fifth pair wear time dont fall apart ot...</td>\n",
       "      <td>0.000000</td>\n",
       "      <td>0.500000</td>\n",
       "      <td>0</td>\n",
       "    </tr>\n",
       "    <tr>\n",
       "      <td>...</td>\n",
       "      <td>...</td>\n",
       "      <td>...</td>\n",
       "      <td>...</td>\n",
       "      <td>...</td>\n",
       "      <td>...</td>\n",
       "      <td>...</td>\n",
       "    </tr>\n",
       "    <tr>\n",
       "      <td>999992</td>\n",
       "      <td>5</td>\n",
       "      <td>nice</td>\n",
       "      <td>little concerned fit hat fit perfectly bandana...</td>\n",
       "      <td>0.600000</td>\n",
       "      <td>0.403125</td>\n",
       "      <td>0</td>\n",
       "    </tr>\n",
       "    <tr>\n",
       "      <td>999994</td>\n",
       "      <td>5</td>\n",
       "      <td>pleased</td>\n",
       "      <td>years years ago original links links 2003 play...</td>\n",
       "      <td>0.500000</td>\n",
       "      <td>0.437500</td>\n",
       "      <td>0</td>\n",
       "    </tr>\n",
       "    <tr>\n",
       "      <td>999996</td>\n",
       "      <td>5</td>\n",
       "      <td>five stars</td>\n",
       "      <td>good</td>\n",
       "      <td>0.000000</td>\n",
       "      <td>0.700000</td>\n",
       "      <td>0</td>\n",
       "    </tr>\n",
       "    <tr>\n",
       "      <td>999998</td>\n",
       "      <td>5</td>\n",
       "      <td>surpising new voice romance genre</td>\n",
       "      <td>read book based glowing recommends friends cou...</td>\n",
       "      <td>0.136364</td>\n",
       "      <td>0.247734</td>\n",
       "      <td>0</td>\n",
       "    </tr>\n",
       "    <tr>\n",
       "      <td>999999</td>\n",
       "      <td>5</td>\n",
       "      <td>must admit truth</td>\n",
       "      <td>much hate say homework michael</td>\n",
       "      <td>0.000000</td>\n",
       "      <td>-0.800000</td>\n",
       "      <td>0</td>\n",
       "    </tr>\n",
       "  </tbody>\n",
       "</table>\n",
       "<p>632337 rows × 6 columns</p>\n",
       "</div>"
      ],
      "text/plain": [
       "        star_rating                       review_headline  \\\n",
       "0                 5                            five stars   \n",
       "1                 5  perfect fit perfect feeling made usa   \n",
       "2                 5     fantastic successor baking flavor   \n",
       "4                 5                            five stars   \n",
       "5                 5                           keep buying   \n",
       "...             ...                                   ...   \n",
       "999992            5                                  nice   \n",
       "999994            5                               pleased   \n",
       "999996            5                            five stars   \n",
       "999998            5     surpising new voice romance genre   \n",
       "999999            5                      must admit truth   \n",
       "\n",
       "                                              review_body  headline_polarity  \\\n",
       "0                                          happy purchase           0.000000   \n",
       "1       cardigan perfect lightweight fits true size po...           0.800000   \n",
       "2       wow gorgeous baking cookbook layout recipes co...           0.400000   \n",
       "4                                         improved vision           0.000000   \n",
       "5       fourth fifth pair wear time dont fall apart ot...           0.000000   \n",
       "...                                                   ...                ...   \n",
       "999992  little concerned fit hat fit perfectly bandana...           0.600000   \n",
       "999994  years years ago original links links 2003 play...           0.500000   \n",
       "999996                                               good           0.000000   \n",
       "999998  read book based glowing recommends friends cou...           0.136364   \n",
       "999999                     much hate say homework michael           0.000000   \n",
       "\n",
       "        body_polarity  label  \n",
       "0            0.800000      0  \n",
       "1            0.825000      0  \n",
       "2            0.337083      0  \n",
       "4            0.000000      0  \n",
       "5            0.500000      0  \n",
       "...               ...    ...  \n",
       "999992       0.403125      0  \n",
       "999994       0.437500      0  \n",
       "999996       0.700000      0  \n",
       "999998       0.247734      0  \n",
       "999999      -0.800000      0  \n",
       "\n",
       "[632337 rows x 6 columns]"
      ]
     },
     "execution_count": 73,
     "metadata": {},
     "output_type": "execute_result"
    }
   ],
   "source": [
    "data.loc[(data['label'] == 0)]"
   ]
  },
  {
   "cell_type": "markdown",
   "metadata": {},
   "source": [
    "### Evaluating Clusters"
   ]
  },
  {
   "cell_type": "code",
   "execution_count": null,
   "metadata": {},
   "outputs": [],
   "source": [
    "# Calculate silhouette_score\n",
    "from sklearn.metrics import silhouette_score\n",
    "\n",
    "print(silhouette_score(X, kmeans.labels_))"
   ]
  }
 ],
 "metadata": {
  "kernelspec": {
   "display_name": "Python 3",
   "language": "python",
   "name": "python3"
  },
  "language_info": {
   "codemirror_mode": {
    "name": "ipython",
    "version": 3
   },
   "file_extension": ".py",
   "mimetype": "text/x-python",
   "name": "python",
   "nbconvert_exporter": "python",
   "pygments_lexer": "ipython3",
   "version": "3.7.4"
  }
 },
 "nbformat": 4,
 "nbformat_minor": 2
}
